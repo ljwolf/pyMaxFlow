{
 "metadata": {
  "name": "",
  "signature": "sha256:77bdcedb97ad800fa7a7b766591f0c655516ec412b7eaed0800e767aa6ce9f54"
 },
 "nbformat": 3,
 "nbformat_minor": 0,
 "worksheets": [
  {
   "cells": [
    {
     "cell_type": "heading",
     "level": 1,
     "metadata": {},
     "source": [
      "pyMaxFlow Example"
     ]
    },
    {
     "cell_type": "markdown",
     "metadata": {},
     "source": [
      "Simple maxflow/mincut algorithm, an implementation of [Edmonds-Karp](http://en.wikipedia.org/wiki/Edmonds-Karp_algorithm).\n",
      "\n",
      "Uses [networkx](http://networkx.github.io) &amp; [pysal](http://pysal.org).\n",
      "\n",
      "We will run the maxflow for two networks: a Mesa street network used as an example dataset in the GeoDaNet package and a Barcelona street network provided by [Simon Planells-Struse](http://www.ieb.ub.edu/en/24-simon-planells-struse)."
     ]
    },
    {
     "cell_type": "heading",
     "level": 2,
     "metadata": {},
     "source": [
      "Getting necessary imports"
     ]
    },
    {
     "cell_type": "markdown",
     "metadata": {},
     "source": [
      "This algorithm, in addition to needing the maxflow and maxflow_tools modules, requires pysal and networkx."
     ]
    },
    {
     "cell_type": "code",
     "collapsed": false,
     "input": [
      "import maxflow as mx\n",
      "import pysal as ps\n",
      "import networkx as nx\n",
      "import maxflow_tools as mft"
     ],
     "language": "python",
     "metadata": {},
     "outputs": [],
     "prompt_number": 6
    },
    {
     "cell_type": "heading",
     "level": 2,
     "metadata": {},
     "source": [
      "GeoDaNet Mesa Street Network"
     ]
    },
    {
     "cell_type": "code",
     "collapsed": false,
     "input": [
      "shpf_a = ps.open('example_data/streets.shp')"
     ],
     "language": "python",
     "metadata": {},
     "outputs": [],
     "prompt_number": 22
    },
    {
     "cell_type": "markdown",
     "metadata": {},
     "source": [
      "Once the shapefile is opened, we will calculate arc lengths for the network and assign random capacities to each arc, as it doesn't currently contain capacities. The maximum random capacitiy is set at 45 and the lengths are calculated from the arclen method of pysal \"chain\" datatypes. Then, a start and end are randomly assigned, and a networkx graph constructed."
     ]
    },
    {
     "cell_type": "code",
     "collapsed": false,
     "input": [
      "lens_a, caps_a = mx.genlenscaps(shpf_a, cap=45)\n",
      "start_a, end_a = mx.genrandst(shpf_a, lens_a)\n",
      "startgraph_a, resgraph_a = mx.gengraphs(shpf_a, lens_a, caps_a)"
     ],
     "language": "python",
     "metadata": {},
     "outputs": [],
     "prompt_number": 52
    },
    {
     "cell_type": "markdown",
     "metadata": {},
     "source": [
      "Then, the maxflow problem is solved using the [Edmonds-Karp Algorithm](http://en.wikipedia.org/wiki/Edmonds-Karp_algorithm)."
     ]
    },
    {
     "cell_type": "code",
     "collapsed": false,
     "input": [
      "startgraph_a, resgraph_a, maxflow_a = mx.maxflow(startgraph_a, resgraph_a, caps_a, start_a, end_a)"
     ],
     "language": "python",
     "metadata": {},
     "outputs": [
      {
       "output_type": "stream",
       "stream": "stdout",
       "text": [
        "\t\tno connectivity at  63 !\n",
        "\t\t\tcut complete!\n"
       ]
      }
     ],
     "prompt_number": 54
    },
    {
     "cell_type": "markdown",
     "metadata": {},
     "source": [
      "Now we will write the cell to file"
     ]
    },
    {
     "cell_type": "code",
     "collapsed": false,
     "input": [
      "nx.write_shp(startgraph_a, \"./output_a/start\")\n",
      "nx.write_shp(resgraph_a, \"./output_a/residual\")"
     ],
     "language": "python",
     "metadata": {},
     "outputs": [],
     "prompt_number": 55
    },
    {
     "cell_type": "heading",
     "level": 2,
     "metadata": {},
     "source": [
      "Barcelona File"
     ]
    },
    {
     "cell_type": "code",
     "collapsed": false,
     "input": [
      "shpf_b = ps.open('example_data/barca/simon_maps/BCN_GrafVial_Trams_SHP.shp')"
     ],
     "language": "python",
     "metadata": {},
     "outputs": [],
     "prompt_number": 11
    },
    {
     "cell_type": "markdown",
     "metadata": {},
     "source": [
      "Once the shapefile is opened, we must generate lengths and capacities for the network. A maximum random capacity was set at 20, and the lengths are real lengths derived from the arclen method of pysal chains. Then, a start and end is picked randomly, and a network x graph generated."
     ]
    },
    {
     "cell_type": "code",
     "collapsed": false,
     "input": [
      "lens_b, caps_b = mx.genlenscaps(shpf_b, cap=20)\n",
      "start_b, end_b = mx.genrandst(shpf_b, lens_b)\n",
      "startgraph_b, resgraph_b = mx.gengraphs(shpf_b, lens_b, caps_b)"
     ],
     "language": "python",
     "metadata": {},
     "outputs": [],
     "prompt_number": 12
    },
    {
     "cell_type": "markdown",
     "metadata": {},
     "source": [
      "Then, the Edmonds-Karp algorithm can be run"
     ]
    },
    {
     "cell_type": "code",
     "collapsed": false,
     "input": [
      "startgraph_b, resgraph_b, maxflow_b = mx.maxflow(startgraph_b, resgraph_b, caps_b, start_b, end_b)"
     ],
     "language": "python",
     "metadata": {},
     "outputs": [
      {
       "output_type": "stream",
       "stream": "stdout",
       "text": [
        "\t\tno connectivity at  824 !\n",
        "\t\t\tcut complete!\n"
       ]
      }
     ],
     "prompt_number": 13
    },
    {
     "cell_type": "markdown",
     "metadata": {},
     "source": [
      "Again, the graphs will be written to files"
     ]
    },
    {
     "cell_type": "code",
     "collapsed": false,
     "input": [
      "nx.write_shp(startgraph_b, \"./output_b/start\")\n",
      "nx.write_shp(resgraph_b, \"./output_b/residual\")"
     ],
     "language": "python",
     "metadata": {},
     "outputs": [],
     "prompt_number": 15
    },
    {
     "cell_type": "code",
     "collapsed": false,
     "input": [],
     "language": "python",
     "metadata": {},
     "outputs": []
    }
   ],
   "metadata": {}
  }
 ]
}